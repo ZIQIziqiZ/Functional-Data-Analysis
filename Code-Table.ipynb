{
 "cells": [
  {
   "cell_type": "markdown",
   "id": "b444e117",
   "metadata": {},
   "source": [
    "Automobile Sales Forecasting Using Functional Data Analysis"
   ]
  },
  {
   "cell_type": "code",
   "execution_count": 1,
   "id": "e4e94d6c",
   "metadata": {},
   "outputs": [],
   "source": [
    "import pandas as pd\n",
    "import numpy as np\n",
    "import matplotlib.pyplot as plt\n",
    "import skfda\n",
    "from skfda.preprocessing.dim_reduction.feature_extraction import FPCA\n",
    "from sklearn.preprocessing import MinMaxScaler\n",
    "from sklearn.metrics import r2_score\n",
    "from keras.models import Sequential\n",
    "from keras.layers import Dense\n",
    "from keras.callbacks import EarlyStopping\n",
    "from keras.optimizers import adam_v2\n",
    "from keras.layers import LSTM\n",
    "from math import sqrt\n",
    "from scipy.stats import gaussian_kde\n",
    "from sklearn.metrics import mean_absolute_percentage_error\n",
    "from sklearn.metrics import mean_absolute_error\n",
    "from sklearn.metrics import mean_squared_error\n",
    "from skfda.ml.regression import KNeighborsRegressor\n",
    "from sklearn.model_selection import train_test_split, GridSearchCV, KFold\n",
    "from skfda.misc.metrics import l2_distance, l2_norm\n",
    "from statsmodels.tsa.statespace.sarimax import SARIMAX"
   ]
  },
  {
   "cell_type": "code",
   "execution_count": 1,
   "id": "5225c322",
   "metadata": {},
   "outputs": [],
   "source": [
    "#Table 2: FDA models using different durations of sales data"
   ]
  },
  {
   "cell_type": "code",
   "execution_count": 2,
   "id": "65bc9441",
   "metadata": {},
   "outputs": [],
   "source": [
    "data_matrix_train = pd.read_csv('data_matrix_train.csv')\n",
    "del data_matrix_train['Unnamed: 0']\n",
    "data_matrix_test = pd.read_csv('data_matrix_test.csv')\n",
    "del data_matrix_test['Unnamed: 0']\n",
    "sales = pd.concat([data_matrix_train,data_matrix_test], axis=1)\n",
    "sales.columns = range(1,41)\n",
    "grid_points = []\n",
    "for i in range(1,41):\n",
    "    grid_points.append(i)\n",
    "fd_y = skfda.FDataGrid(\n",
    "    data_matrix=sales,\n",
    "    grid_points=grid_points,\n",
    ")\n",
    "q = 4\n",
    "fpca_clean = FPCA(n_components=q)\n",
    "fpca_clean.fit(fd_y)\n",
    "fd_y_hat = fpca_clean.inverse_transform(\n",
    "    fpca_clean.transform(fd_y)\n",
    ")\n",
    "err_fd_y = l2_distance(\n",
    "    fd_y,\n",
    "    fd_y_hat\n",
    ") / l2_norm(fd_y)\n",
    "x_density = np.linspace(0., 1.6, num=2276)\n",
    "density_err_fd_y = gaussian_kde(err_fd_y)\n",
    "err_thresh = np.quantile(err_fd_y, 0.95)\n",
    "newsales = sales[err_fd_y < err_thresh]"
   ]
  },
  {
   "cell_type": "code",
   "execution_count": 13,
   "id": "85cfd6a4",
   "metadata": {},
   "outputs": [],
   "source": [
    "#FDA 12months"
   ]
  },
  {
   "cell_type": "code",
   "execution_count": 14,
   "id": "dcc182b1",
   "metadata": {},
   "outputs": [
    {
     "name": "stdout",
     "output_type": "stream",
     "text": [
      "Best params {'n_neighbors': 8, 'weights': 'distance'}\n",
      "Best score 0.8840878702272456\n"
     ]
    }
   ],
   "source": [
    "fd_y = skfda.FDataGrid(\n",
    "    data_matrix=newsales.iloc[:,36:40],\n",
    "    grid_points=grid_points[36:40],\n",
    ")\n",
    "fd_x = skfda.FDataGrid(\n",
    "    data_matrix=newsales.iloc[:,24:36],\n",
    "    grid_points=grid_points[24:36],\n",
    ")\n",
    "param_grid = {'n_neighbors': np.arange(1, 25),\n",
    "              'weights': ['uniform', 'distance']}\n",
    "knn = KNeighborsRegressor(metric='euclidean', multivariate_metric=True)\n",
    "gscv = GridSearchCV(knn, param_grid, cv=KFold(n_splits=5,\n",
    "                                              shuffle=True, random_state=0))\n",
    "gscv.fit(fd_x, fd_y)\n",
    "print(\"Best params\", gscv.best_params_)\n",
    "print(\"Best score\", gscv.best_score_)"
   ]
  },
  {
   "cell_type": "code",
   "execution_count": 15,
   "id": "bb40cded",
   "metadata": {},
   "outputs": [
    {
     "name": "stdout",
     "output_type": "stream",
     "text": [
      "FDA 12months mae: 69.69359268766571\n",
      "FDA 12months rmse: 82.07114524426872\n"
     ]
    }
   ],
   "source": [
    "knn = KNeighborsRegressor(n_neighbors=8, weights='distance')\n",
    "train, test = train_test_split(newsales, test_size = 0.2, random_state=10)\n",
    "X_train = train.iloc[:,24:36]\n",
    "y_train = train.iloc[:,36:40]\n",
    "X_train = skfda.FDataGrid(\n",
    "    data_matrix=X_train,\n",
    "    grid_points=grid_points[24:36],\n",
    ")\n",
    "y_train = skfda.FDataGrid(\n",
    "    data_matrix=y_train,\n",
    "    grid_points=grid_points[36:40],\n",
    ")\n",
    "knn.fit(X_train, y_train)\n",
    "X_test = test.iloc[:,24:36]\n",
    "X_test = skfda.FDataGrid(\n",
    "    data_matrix=X_test,\n",
    "    grid_points=grid_points[24:36],\n",
    ")\n",
    "y_pred = knn.predict(X_test)\n",
    "pred = pd.DataFrame(y_pred.data_matrix.reshape((test.shape[0],4)))\n",
    "y_test = test.iloc[:,36:40]\n",
    "y_test = y_test.reset_index(drop = True)\n",
    "mae = 0\n",
    "rmse = 0\n",
    "for i in y_test.index:\n",
    "    mae = mae + mean_absolute_error(y_test.loc[i], pred.loc[i])\n",
    "    rmse = rmse + sqrt(mean_squared_error(y_test.loc[i], pred.loc[i]))\n",
    "print(\"FDA 12months mae:\", mae/len(y_test))\n",
    "print(\"FDA 12months rmse:\", rmse/len(y_test)) "
   ]
  },
  {
   "cell_type": "code",
   "execution_count": null,
   "id": "45363335",
   "metadata": {},
   "outputs": [],
   "source": [
    "#FDA 24months"
   ]
  },
  {
   "cell_type": "code",
   "execution_count": 16,
   "id": "96fdf9cb",
   "metadata": {},
   "outputs": [
    {
     "name": "stdout",
     "output_type": "stream",
     "text": [
      "Best params {'n_neighbors': 12, 'weights': 'distance'}\n",
      "Best score 0.8784006631528374\n"
     ]
    }
   ],
   "source": [
    "fd_y = skfda.FDataGrid(\n",
    "    data_matrix=newsales.iloc[:,36:40],\n",
    "    grid_points=grid_points[36:40],\n",
    ")\n",
    "fd_x = skfda.FDataGrid(\n",
    "    data_matrix=newsales.iloc[:,12:36],\n",
    "    grid_points=grid_points[12:36],\n",
    ")\n",
    "param_grid = {'n_neighbors': np.arange(1, 25),\n",
    "              'weights': ['uniform', 'distance']}\n",
    "knn = KNeighborsRegressor(metric='euclidean', multivariate_metric=True)\n",
    "gscv = GridSearchCV(knn, param_grid, cv=KFold(n_splits=5,\n",
    "                                              shuffle=True, random_state=0))\n",
    "gscv.fit(fd_x, fd_y)\n",
    "print(\"Best params\", gscv.best_params_)\n",
    "print(\"Best score\", gscv.best_score_)"
   ]
  },
  {
   "cell_type": "code",
   "execution_count": 17,
   "id": "8b8e88db",
   "metadata": {},
   "outputs": [
    {
     "name": "stdout",
     "output_type": "stream",
     "text": [
      "FDA 24months mae: 68.9481979765459\n",
      "FDA 24months rmse: 81.10053108899012\n"
     ]
    }
   ],
   "source": [
    "knn = KNeighborsRegressor(n_neighbors=12, weights='distance')\n",
    "train, test = train_test_split(newsales, test_size = 0.2, random_state=10)\n",
    "X_train = train.iloc[:,12:36]\n",
    "y_train = train.iloc[:,36:40]\n",
    "X_train = skfda.FDataGrid(\n",
    "    data_matrix=X_train,\n",
    "    grid_points=grid_points[12:36],\n",
    ")\n",
    "y_train = skfda.FDataGrid(\n",
    "    data_matrix=y_train,\n",
    "    grid_points=grid_points[36:40],\n",
    ")\n",
    "knn.fit(X_train, y_train)\n",
    "X_test = test.iloc[:,12:36]\n",
    "X_test = skfda.FDataGrid(\n",
    "    data_matrix=X_test,\n",
    "    grid_points=grid_points[12:36],\n",
    ")\n",
    "y_pred = knn.predict(X_test)\n",
    "pred = pd.DataFrame(y_pred.data_matrix.reshape((test.shape[0],4)))\n",
    "y_test = test.iloc[:,36:40]\n",
    "y_test = y_test.reset_index(drop = True)\n",
    "mae = 0\n",
    "rmse = 0\n",
    "for i in y_test.index:\n",
    "    mae = mae + mean_absolute_error(y_test.loc[i], pred.loc[i])\n",
    "    rmse = rmse + sqrt(mean_squared_error(y_test.loc[i], pred.loc[i]))\n",
    "print(\"FDA 24months mae:\", mae/len(y_test))\n",
    "print(\"FDA 24months rmse:\", rmse/len(y_test)) "
   ]
  },
  {
   "cell_type": "code",
   "execution_count": 18,
   "id": "306bd0bc",
   "metadata": {},
   "outputs": [],
   "source": [
    "#FDA 36months"
   ]
  },
  {
   "cell_type": "code",
   "execution_count": 19,
   "id": "b69a3f87",
   "metadata": {},
   "outputs": [
    {
     "name": "stdout",
     "output_type": "stream",
     "text": [
      "Best params {'n_neighbors': 7, 'weights': 'distance'}\n",
      "Best score 0.8762306134660605\n"
     ]
    }
   ],
   "source": [
    "fd_y = skfda.FDataGrid(\n",
    "    data_matrix=newsales.iloc[:,36:40],\n",
    "    grid_points=grid_points[36:40],\n",
    ")\n",
    "fd_x = skfda.FDataGrid(\n",
    "    data_matrix=newsales.iloc[:,0:36],\n",
    "    grid_points=grid_points[0:36],\n",
    ")\n",
    "param_grid = {'n_neighbors': np.arange(1, 25),\n",
    "              'weights': ['uniform', 'distance']}\n",
    "knn = KNeighborsRegressor(metric='euclidean', multivariate_metric=True)\n",
    "gscv = GridSearchCV(knn, param_grid, cv=KFold(n_splits=5,\n",
    "                                              shuffle=True, random_state=0))\n",
    "gscv.fit(fd_x, fd_y)\n",
    "print(\"Best params\", gscv.best_params_)\n",
    "print(\"Best score\", gscv.best_score_)"
   ]
  },
  {
   "cell_type": "code",
   "execution_count": 20,
   "id": "23497cce",
   "metadata": {},
   "outputs": [
    {
     "name": "stdout",
     "output_type": "stream",
     "text": [
      "FDA 36months mae: 69.96096983717943\n",
      "FDA 36months rmse: 81.11569609717593\n"
     ]
    }
   ],
   "source": [
    "knn = KNeighborsRegressor(n_neighbors=7, weights='distance')\n",
    "train, test = train_test_split(newsales, test_size = 0.2, random_state=10)\n",
    "X_train = train.iloc[:,0:36]\n",
    "y_train = train.iloc[:,36:40]\n",
    "X_train = skfda.FDataGrid(\n",
    "    data_matrix=X_train,\n",
    "    grid_points=grid_points[0:36],\n",
    ")\n",
    "y_train = skfda.FDataGrid(\n",
    "    data_matrix=y_train,\n",
    "    grid_points=grid_points[36:40],\n",
    ")\n",
    "knn.fit(X_train, y_train)\n",
    "X_test = test.iloc[:,0:36]\n",
    "X_test = skfda.FDataGrid(\n",
    "    data_matrix=X_test,\n",
    "    grid_points=grid_points[0:36],\n",
    ")\n",
    "y_pred = knn.predict(X_test)\n",
    "pred = pd.DataFrame(y_pred.data_matrix.reshape((test.shape[0],4)))\n",
    "y_test = test.iloc[:,36:40]\n",
    "y_test = y_test.reset_index(drop = True)\n",
    "mae = 0\n",
    "rmse = 0\n",
    "for i in y_test.index:\n",
    "    mae = mae + mean_absolute_error(y_test.loc[i], pred.loc[i])\n",
    "    rmse = rmse + sqrt(mean_squared_error(y_test.loc[i], pred.loc[i]))\n",
    "print(\"FDA 36months mae:\", mae/len(y_test))\n",
    "print(\"FDA 36months rmse:\", rmse/len(y_test)) "
   ]
  },
  {
   "cell_type": "code",
   "execution_count": 21,
   "id": "77666341",
   "metadata": {},
   "outputs": [],
   "source": [
    "#Table 3: FDA models using different basis functions"
   ]
  },
  {
   "cell_type": "code",
   "execution_count": 22,
   "id": "d140a71f",
   "metadata": {},
   "outputs": [],
   "source": [
    "#FDA fourier"
   ]
  },
  {
   "cell_type": "code",
   "execution_count": 23,
   "id": "71e686d4",
   "metadata": {},
   "outputs": [
    {
     "name": "stdout",
     "output_type": "stream",
     "text": [
      "mae: 68.54\n",
      "rmse: 80.54\n"
     ]
    }
   ],
   "source": [
    "'''\n",
    "def Smape(y_true,y_pred):\n",
    "    a1 = 2.0 * np.abs(y_true[37]-y_pred[0])/ (np.abs(y_true[37])+np.abs(y_pred[0]))\n",
    "    a2 = 2.0 * np.abs(y_true[38]-y_pred[1])/ (np.abs(y_true[38])+np.abs(y_pred[1]))\n",
    "    a3 = 2.0 * np.abs(y_true[39]-y_pred[2])/ (np.abs(y_true[39])+np.abs(y_pred[2]))\n",
    "    a4 = 2.0 * np.abs(y_true[40]-y_pred[3])/ (np.abs(y_true[40])+np.abs(y_pred[3]))\n",
    "    return (a1+a2+a3+a4)/4\n",
    "'''\n",
    "knn = KNeighborsRegressor(n_neighbors=11, weights='distance')\n",
    "train, test = train_test_split(newsales, test_size = 0.2, random_state=10)\n",
    "X_train = train.iloc[:,12:36]\n",
    "y_train = train.iloc[:,36:40]\n",
    "X_train = skfda.FDataGrid(\n",
    "    data_matrix=X_train,\n",
    "    grid_points=grid_points[12:36],\n",
    ")\n",
    "y_train = skfda.FDataGrid(\n",
    "    data_matrix=y_train,\n",
    "    grid_points=grid_points[36:40],\n",
    ")\n",
    "fourier_basis = skfda.representation.basis.VectorValued([\n",
    "    skfda.representation.basis.Fourier(  # Fourier\n",
    "        n_basis=375,\n",
    "        domain_range=X_train.domain_range,\n",
    "    ),\n",
    "])\n",
    "X_train_fourier = X_train.to_basis(fourier_basis)\n",
    "X_train_grid = X_train_fourier.to_grid(grid_points = grid_points[12:36])\n",
    "knn.fit(X_train_grid, y_train)\n",
    "X_test = test.iloc[:,12:36]\n",
    "X_test = skfda.FDataGrid(\n",
    "    data_matrix=X_test,\n",
    "    grid_points=grid_points[12:36],\n",
    ")\n",
    "X_test_fourier = X_test.to_basis(fourier_basis)\n",
    "X_test_grid = X_test_fourier.to_grid(grid_points = grid_points[12:36])\n",
    "y_pred = knn.predict(X_test_grid)\n",
    "pred = y_pred.to_grid(grid_points = grid_points[36:40])\n",
    "pred = pd.DataFrame(pred.data_matrix.reshape((test.shape[0],4)))\n",
    "y_test = test.iloc[:,36:40]\n",
    "y_test = y_test.reset_index(drop = True)\n",
    "mae = 0\n",
    "rmse = 0\n",
    "#smape = 0\n",
    "for i in y_test.index:\n",
    "    mae = mae + mean_absolute_error(y_test.loc[i], pred.loc[i])\n",
    "    rmse = rmse + sqrt(mean_squared_error(y_test.loc[i], pred.loc[i]))\n",
    "    #smape = smape + Smape(y_test.loc[i], pred.loc[i])\n",
    "print(\"mae:\", round(mae/len(y_test),2))\n",
    "#print(\"smape:\", round(smape/len(y_test),2))\n",
    "print(\"rmse:\", round(rmse/len(y_test),2))"
   ]
  },
  {
   "cell_type": "code",
   "execution_count": 24,
   "id": "3847556e",
   "metadata": {},
   "outputs": [],
   "source": [
    "#FDA bspline"
   ]
  },
  {
   "cell_type": "code",
   "execution_count": 25,
   "id": "07c1a120",
   "metadata": {},
   "outputs": [
    {
     "name": "stdout",
     "output_type": "stream",
     "text": [
      "mae: 68.94819797654591\n",
      "rmse: 81.10053108899012\n"
     ]
    }
   ],
   "source": [
    "knn = KNeighborsRegressor(n_neighbors=12, weights='distance')\n",
    "train, test = train_test_split(newsales, test_size = 0.2, random_state=10)\n",
    "X_train = train.iloc[:,12:36]\n",
    "y_train = train.iloc[:,36:40]\n",
    "X_train = skfda.FDataGrid(\n",
    "    data_matrix=X_train,\n",
    "    grid_points=grid_points[12:36],\n",
    ")\n",
    "y_train = skfda.FDataGrid(\n",
    "    data_matrix=y_train,\n",
    "    grid_points=grid_points[36:40],\n",
    ")\n",
    "bspline_basis = skfda.representation.basis.VectorValued([\n",
    "    skfda.representation.basis.BSpline(  # BSpline\n",
    "        n_basis=350,\n",
    "        domain_range=X_train.domain_range,\n",
    "    ),\n",
    "])\n",
    "X_train_bspline = X_train.to_basis(bspline_basis)\n",
    "X_train_grid = X_train_bspline.to_grid(grid_points = grid_points[12:36])\n",
    "knn.fit(X_train_grid, y_train)\n",
    "X_test = test.iloc[:,12:36]\n",
    "X_test = skfda.FDataGrid(\n",
    "    data_matrix=X_test,\n",
    "    grid_points=grid_points[12:36],\n",
    ")\n",
    "X_test_bspline = X_test.to_basis(bspline_basis)\n",
    "X_test_grid = X_test_bspline.to_grid(grid_points = grid_points[12:36])\n",
    "y_pred = knn.predict(X_test_grid)\n",
    "pred = y_pred.to_grid(grid_points = grid_points[36:40])\n",
    "pred = pd.DataFrame(pred.data_matrix.reshape((test.shape[0],4)))\n",
    "y_test = test.iloc[:,36:40]\n",
    "y_test = y_test.reset_index(drop = True)\n",
    "mae = 0\n",
    "rmse = 0\n",
    "for i in y_test.index:\n",
    "    mae = mae + mean_absolute_error(y_test.loc[i], pred.loc[i])\n",
    "    rmse = rmse + sqrt(mean_squared_error(y_test.loc[i], pred.loc[i]))\n",
    "print(\"mae:\", mae/len(y_test))\n",
    "print(\"rmse:\", rmse/len(y_test)) "
   ]
  },
  {
   "cell_type": "code",
   "execution_count": 26,
   "id": "411ddce5",
   "metadata": {},
   "outputs": [],
   "source": [
    "#Table 4: FDA models using different training variables"
   ]
  },
  {
   "cell_type": "code",
   "execution_count": 27,
   "id": "e0afd487",
   "metadata": {},
   "outputs": [],
   "source": [
    "#FDA sales = FDA fourier\n",
    "#FDA MSRP"
   ]
  },
  {
   "cell_type": "code",
   "execution_count": 28,
   "id": "ee48d5d4",
   "metadata": {},
   "outputs": [],
   "source": [
    "data_matrix_train_MSRP = pd.read_csv('data_matrix_train_MSRP.csv')\n",
    "del data_matrix_train_MSRP['Unnamed: 0']\n",
    "data_matrix_test_MSRP = pd.read_csv('data_matrix_test_MSRP.csv')\n",
    "del data_matrix_test_MSRP['Unnamed: 0']\n",
    "MSRP = pd.concat([data_matrix_train_MSRP,data_matrix_test_MSRP], axis=1)\n",
    "MSRP.columns = range(1,41)\n",
    "newMSRP = MSRP[err_fd_y < err_thresh]"
   ]
  },
  {
   "cell_type": "code",
   "execution_count": 29,
   "id": "67350b09",
   "metadata": {},
   "outputs": [
    {
     "name": "stdout",
     "output_type": "stream",
     "text": [
      "Best params {'n_neighbors': 9, 'weights': 'uniform'}\n",
      "Best score 0.22280278833673695\n"
     ]
    }
   ],
   "source": [
    "fd_y = skfda.FDataGrid(\n",
    "    data_matrix=newsales,\n",
    "    grid_points=grid_points,\n",
    ")\n",
    "fd_x = skfda.FDataGrid(\n",
    "    data_matrix=newMSRP,\n",
    "    grid_points=grid_points,\n",
    ")\n",
    "fourier_basis = skfda.representation.basis.VectorValued([\n",
    "    skfda.representation.basis.Fourier(  # Fourier\n",
    "        n_basis=375,\n",
    "        domain_range=fd_x.domain_range,\n",
    "    ),\n",
    "])\n",
    "fd_x_fourier = fd_x.to_basis(fourier_basis)\n",
    "fd_x_grid = fd_x_fourier.to_grid(grid_points = grid_points[12:36])\n",
    "param_grid = {'n_neighbors': np.arange(1, 25),\n",
    "              'weights': ['uniform', 'distance']}\n",
    "knn = KNeighborsRegressor(metric='euclidean', multivariate_metric=True)\n",
    "gscv = GridSearchCV(knn, param_grid, cv=KFold(n_splits=5,\n",
    "                                              shuffle=True, random_state=0))\n",
    "gscv.fit(fd_x_grid, fd_y)  \n",
    "print(\"Best params\", gscv.best_params_)\n",
    "print(\"Best score\", gscv.best_score_)"
   ]
  },
  {
   "cell_type": "code",
   "execution_count": 4,
   "id": "30f6d165",
   "metadata": {},
   "outputs": [],
   "source": [
    "#FDA+线性 vs FDA+KNN"
   ]
  },
  {
   "cell_type": "code",
   "execution_count": 105,
   "id": "80526f9e",
   "metadata": {},
   "outputs": [
    {
     "name": "stdout",
     "output_type": "stream",
     "text": [
      "extrapolation mae: 114.76732101616624\n",
      "extrapolation rmse: 144.03323075919627\n"
     ]
    }
   ],
   "source": [
    "train, test = train_test_split(newsales, test_size = 0.2, random_state=10)\n",
    "X_test = test.iloc[:,24:36]\n",
    "X_test = skfda.FDataGrid(\n",
    "    data_matrix=X_test,\n",
    "    grid_points=grid_points[24:36],\n",
    ")\n",
    "y_test = test.iloc[:,36:40]\n",
    "y_test = y_test.reset_index(drop = True)\n",
    "t = np.linspace(25, 40, num = 26)\n",
    "mae = 0\n",
    "rmse = 0\n",
    "for i in range(len(X_test)):\n",
    "    values = X_test[i](t, extrapolation=\"periodic\")[..., 0]\n",
    "    mae = mae + mean_absolute_error(y_test.loc[i], pd.DataFrame(values).loc[0][22:])\n",
    "    rmse = rmse + sqrt(mean_squared_error(y_test.loc[i], pd.DataFrame(values).loc[0][22:]))\n",
    "print(\"extrapolation mae:\", mae/len(y_test))\n",
    "print(\"extrapolation rmse:\", rmse/len(y_test)) "
   ]
  },
  {
   "cell_type": "code",
   "execution_count": 104,
   "id": "d80ad5fd",
   "metadata": {},
   "outputs": [
    {
     "data": {
      "text/html": [
       "<div>\n",
       "<style scoped>\n",
       "    .dataframe tbody tr th:only-of-type {\n",
       "        vertical-align: middle;\n",
       "    }\n",
       "\n",
       "    .dataframe tbody tr th {\n",
       "        vertical-align: top;\n",
       "    }\n",
       "\n",
       "    .dataframe thead th {\n",
       "        text-align: right;\n",
       "    }\n",
       "</style>\n",
       "<table border=\"1\" class=\"dataframe\">\n",
       "  <thead>\n",
       "    <tr style=\"text-align: right;\">\n",
       "      <th></th>\n",
       "      <th>0</th>\n",
       "      <th>1</th>\n",
       "      <th>2</th>\n",
       "      <th>3</th>\n",
       "      <th>4</th>\n",
       "      <th>5</th>\n",
       "      <th>6</th>\n",
       "      <th>7</th>\n",
       "      <th>8</th>\n",
       "      <th>9</th>\n",
       "      <th>...</th>\n",
       "      <th>16</th>\n",
       "      <th>17</th>\n",
       "      <th>18</th>\n",
       "      <th>19</th>\n",
       "      <th>20</th>\n",
       "      <th>21</th>\n",
       "      <th>22</th>\n",
       "      <th>23</th>\n",
       "      <th>24</th>\n",
       "      <th>25</th>\n",
       "    </tr>\n",
       "  </thead>\n",
       "  <tbody>\n",
       "    <tr>\n",
       "      <th>0</th>\n",
       "      <td>70.0</td>\n",
       "      <td>31.0</td>\n",
       "      <td>12.6</td>\n",
       "      <td>35.4</td>\n",
       "      <td>41.0</td>\n",
       "      <td>38.0</td>\n",
       "      <td>43.4</td>\n",
       "      <td>45.8</td>\n",
       "      <td>42.2</td>\n",
       "      <td>34.6</td>\n",
       "      <td>...</td>\n",
       "      <td>70.4</td>\n",
       "      <td>72.6</td>\n",
       "      <td>104.4</td>\n",
       "      <td>44.0</td>\n",
       "      <td>5.0</td>\n",
       "      <td>27.8</td>\n",
       "      <td>42.0</td>\n",
       "      <td>39.0</td>\n",
       "      <td>41.6</td>\n",
       "      <td>47.0</td>\n",
       "    </tr>\n",
       "  </tbody>\n",
       "</table>\n",
       "<p>1 rows × 26 columns</p>\n",
       "</div>"
      ],
      "text/plain": [
       "     0     1     2     3     4     5     6     7     8     9   ...    16  \\\n",
       "0  70.0  31.0  12.6  35.4  41.0  38.0  43.4  45.8  42.2  34.6  ...  70.4   \n",
       "\n",
       "     17     18    19   20    21    22    23    24    25  \n",
       "0  72.6  104.4  44.0  5.0  27.8  42.0  39.0  41.6  47.0  \n",
       "\n",
       "[1 rows x 26 columns]"
      ]
     },
     "execution_count": 104,
     "metadata": {},
     "output_type": "execute_result"
    }
   ],
   "source": [
    "pd.DataFrame(values)"
   ]
  },
  {
   "cell_type": "code",
   "execution_count": 30,
   "id": "f9277b63",
   "metadata": {},
   "outputs": [
    {
     "name": "stdout",
     "output_type": "stream",
     "text": [
      "MSRP mae: 155.97926695048216\n",
      "MSRP rmse: 192.88158184340364\n"
     ]
    }
   ],
   "source": [
    "knn = KNeighborsRegressor(n_neighbors=9, weights='distance')\n",
    "y_train, y_test = train_test_split(newsales, test_size = 0.2, random_state=10)\n",
    "X_train, X_test = train_test_split(newMSRP, test_size = 0.2, random_state=10)\n",
    "X_train = skfda.FDataGrid(\n",
    "    data_matrix=X_train,\n",
    "    grid_points=grid_points,\n",
    ")\n",
    "y_train = skfda.FDataGrid(\n",
    "    data_matrix=y_train,\n",
    "    grid_points=grid_points,\n",
    ")\n",
    "fourier_basis = skfda.representation.basis.VectorValued([\n",
    "    skfda.representation.basis.Fourier(  # Fourier\n",
    "        n_basis=375,\n",
    "        domain_range=X_train.domain_range,\n",
    "    ),\n",
    "])\n",
    "X_train_fourier = X_train.to_basis(fourier_basis)\n",
    "X_train_grid = X_train_fourier.to_grid(grid_points = grid_points[12:36])\n",
    "knn.fit(X_train_grid, y_train)\n",
    "X_test = skfda.FDataGrid(\n",
    "    data_matrix=X_test,\n",
    "    grid_points=grid_points,\n",
    ")\n",
    "X_test_fourier = X_test.to_basis(fourier_basis)\n",
    "X_test_grid = X_test_fourier.to_grid(grid_points = grid_points[12:36])\n",
    "y_pred = knn.predict(X_test_grid)\n",
    "pred = y_pred.to_grid(grid_points = grid_points)\n",
    "pred = pd.DataFrame(pred.data_matrix.reshape((test.shape[0],40)))\n",
    "y_test = y_test.reset_index(drop = True)\n",
    "mae = 0\n",
    "rmse = 0\n",
    "for i in y_test.index:\n",
    "    mae = mae + mean_absolute_error(y_test.loc[i], pred.loc[i])\n",
    "    rmse = rmse + sqrt(mean_squared_error(y_test.loc[i], pred.loc[i]))\n",
    "print(\"MSRP mae:\", mae/len(y_test))\n",
    "print(\"MSRP rmse:\", rmse/len(y_test)) "
   ]
  },
  {
   "cell_type": "code",
   "execution_count": 31,
   "id": "8919b3a5",
   "metadata": {},
   "outputs": [],
   "source": [
    "#Table 5: compare results with benchmark models\n",
    "#FDA = FDA sales = FDA fourier"
   ]
  },
  {
   "cell_type": "code",
   "execution_count": 32,
   "id": "edea755f",
   "metadata": {},
   "outputs": [],
   "source": [
    "#SARIMA"
   ]
  },
  {
   "cell_type": "code",
   "execution_count": 49,
   "id": "4e0418c0",
   "metadata": {},
   "outputs": [
    {
     "name": "stdout",
     "output_type": "stream",
     "text": [
      "mae: 175.8517351878092\n",
      "rmse: 196.11885140579219\n"
     ]
    }
   ],
   "source": [
    "import warnings\n",
    "warnings.filterwarnings(\"ignore\")\n",
    "train, test = train_test_split(sales, test_size = 0.2, random_state=10)\n",
    "mae = 0\n",
    "rmse = 0\n",
    "for i in test.index:\n",
    "    m = SARIMAX(test.loc[i][0:36], order = (0,1,1), seasonal_order = (0,1,1,12)).fit(disp=0)\n",
    "    data_predict = m.predict(37,40)\n",
    "    mae = mae + mean_absolute_error(test.loc[i][36:40], data_predict)\n",
    "    rmse = rmse + sqrt(mean_squared_error(test.loc[i][36:40], data_predict))\n",
    "print(\"mae:\", mae/len(test))\n",
    "print(\"rmse:\", rmse/len(test))"
   ]
  },
  {
   "cell_type": "code",
   "execution_count": 33,
   "id": "ed58c8c2",
   "metadata": {},
   "outputs": [],
   "source": [
    "#ANN\n",
    "#初始值随机，每次运行结果会不一样"
   ]
  },
  {
   "cell_type": "code",
   "execution_count": 6,
   "id": "e4d42b00",
   "metadata": {},
   "outputs": [
    {
     "name": "stdout",
     "output_type": "stream",
     "text": [
      "mae_ann: 108.46326575791414\n",
      "rmse_ann: 128.40311667787768\n"
     ]
    }
   ],
   "source": [
    "from numpy.random import seed \n",
    "seed(1)\n",
    "train, test = train_test_split(sales, test_size = 0.2, random_state=10)\n",
    "X_train = train.iloc[:,0:36]\n",
    "y_train = train.iloc[:,36:40]\n",
    "X_test = test.iloc[:,0:36]\n",
    "y_test = test.iloc[:,36:40]\n",
    "nn_model = Sequential()\n",
    "nn_model.add(Dense(15,input_dim=X_train.shape[1],activation='relu'))\n",
    "nn_model.add(Dense(4))\n",
    "nn_model.compile(loss='mean_squared_error',optimizer='adam')\n",
    "early_stop = EarlyStopping(monitor='loss',patience=2,verbose=1)\n",
    "final_mae = 0\n",
    "final_rmse = 0\n",
    "for m in range(0,70):\n",
    "    nn_model.fit(X_train, y_train, epochs=5, batch_size=len(X_train), verbose=0, callbacks=[early_stop], shuffle=False)\n",
    "    pred = nn_model.predict(X_test)\n",
    "    y_test = y_test.reset_index(drop = True)\n",
    "    mae_ann = 0\n",
    "    rmse_ann = 0\n",
    "    for i in y_test.index:\n",
    "        mae_ann = mae_ann + mean_absolute_error(y_test.iloc[i][[37,38,39,40]], pd.DataFrame(pred).iloc[i])\n",
    "        rmse_ann = rmse_ann + sqrt(mean_squared_error(y_test.iloc[i][[37,38,39,40]], pd.DataFrame(pred).iloc[i]))\n",
    "    final_mae = final_mae + mae_ann/len(y_test)\n",
    "    final_rmse = final_rmse + rmse_ann/len(y_test)\n",
    "print(\"mae_ann:\", final_mae/70)\n",
    "print(\"rmse_ann:\", final_rmse/70)"
   ]
  },
  {
   "cell_type": "code",
   "execution_count": 34,
   "id": "a1543f61",
   "metadata": {},
   "outputs": [],
   "source": [
    "#LSTM\n",
    "#初始值随机，每次运行结果会不一样"
   ]
  },
  {
   "cell_type": "code",
   "execution_count": 13,
   "id": "605170c6",
   "metadata": {},
   "outputs": [
    {
     "name": "stdout",
     "output_type": "stream",
     "text": [
      "Epoch 00010: early stopping\n",
      "Epoch 00005: early stopping\n",
      "mae_lstm: 87.57952098186168\n",
      "rmse_lstm: 101.36044335363593\n"
     ]
    }
   ],
   "source": [
    "X_train_lstm = np.array(X_train).reshape(X_train.shape[0],1,X_train.shape[1])\n",
    "lstm_model = Sequential()\n",
    "lstm_model.add(LSTM(12,input_shape=(1,X_train_lstm.shape[2]),activation='relu',kernel_initializer='lecun_uniform',return_sequences=False))\n",
    "lstm_model.add(Dense(4))\n",
    "lstm_model.compile(loss='mean_squared_error',optimizer='adam')\n",
    "early_stop = EarlyStopping(monitor='loss',patience=2,verbose=1)\n",
    "final_mae = 0\n",
    "final_rmse = 0\n",
    "for m in range(0,50):\n",
    "    lstm_model.fit(X_train_lstm, y_train, epochs=20, batch_size=len(X_train_lstm), verbose=0, callbacks=[early_stop], shuffle=False)\n",
    "    X_test_lstm = np.array(X_test).reshape(X_test.shape[0],1,X_test.shape[1])\n",
    "    pred = lstm_model.predict(X_test_lstm)\n",
    "    y_test = y_test.reset_index(drop = True)\n",
    "    mae_lstm = 0\n",
    "    rmse_lstm = 0\n",
    "    for i in y_test.index:\n",
    "        mae_lstm = mae_lstm + mean_absolute_error(y_test.iloc[i][[37,38,39,40]], pd.DataFrame(pred).iloc[i])\n",
    "        rmse_lstm = rmse_lstm + sqrt(mean_squared_error(y_test.iloc[i][[37,38,39,40]], pd.DataFrame(pred).iloc[i]))\n",
    "    final_mae = final_mae + mae_lstm/len(y_test)\n",
    "    final_rmse = final_rmse + rmse_lstm/len(y_test)\n",
    "print(\"mae_lstm:\", final_mae/50)\n",
    "print(\"rmse_lstm:\", final_rmse/50)"
   ]
  },
  {
   "cell_type": "code",
   "execution_count": 35,
   "id": "f88d745f",
   "metadata": {},
   "outputs": [],
   "source": [
    "#Table 6: MAE, SMAPE, and RMSE scores of models using data with different granularity\n",
    "#FDA province = FDA = FDA sales = FDA fourier"
   ]
  },
  {
   "cell_type": "code",
   "execution_count": 37,
   "id": "86832f33",
   "metadata": {},
   "outputs": [],
   "source": [
    "#FDA city"
   ]
  },
  {
   "cell_type": "code",
   "execution_count": 38,
   "id": "bd8693f6",
   "metadata": {},
   "outputs": [
    {
     "name": "stdout",
     "output_type": "stream",
     "text": [
      "mae: 12.78\n",
      "smape: 0.35\n",
      "rmse: 15.49\n"
     ]
    }
   ],
   "source": [
    "data_matrix_city = pd.read_csv('data_matrix_city.csv')\n",
    "del data_matrix_city['Unnamed: 0']\n",
    "grid_points = []\n",
    "for x in range(25,41):\n",
    "    grid_points.append(x)\n",
    "fd = skfda.FDataGrid(\n",
    "    data_matrix=data_matrix_city,\n",
    "    grid_points=grid_points,\n",
    ")\n",
    "q = 1\n",
    "fpca_clean = FPCA(n_components=q)\n",
    "fpca_clean.fit(fd)\n",
    "fd_hat = fpca_clean.inverse_transform(\n",
    "    fpca_clean.transform(fd)\n",
    ")\n",
    "err_fd = l2_distance(\n",
    "    fd,\n",
    "    fd_hat\n",
    ") / l2_norm(fd)\n",
    "x_density = np.linspace(0., 1.6, num=1972)\n",
    "density_err_fd = gaussian_kde(err_fd)\n",
    "err_thresh = np.quantile(err_fd, 0.95)\n",
    "newsales_city = data_matrix_city[err_fd < err_thresh]\n",
    "newsales_city.columns = range(25,41)\n",
    "def Smape(y_true,y_pred):\n",
    "    a1 = 2.0 * np.abs(y_true[37]-y_pred[0])/ (np.abs(y_true[37])+np.abs(y_pred[0]))\n",
    "    a2 = 2.0 * np.abs(y_true[38]-y_pred[1])/ (np.abs(y_true[38])+np.abs(y_pred[1]))\n",
    "    a3 = 2.0 * np.abs(y_true[39]-y_pred[2])/ (np.abs(y_true[39])+np.abs(y_pred[2]))\n",
    "    a4 = 2.0 * np.abs(y_true[40]-y_pred[3])/ (np.abs(y_true[40])+np.abs(y_pred[3]))\n",
    "    return (a1+a2+a3+a4)/4\n",
    "knn = KNeighborsRegressor(n_neighbors=10, weights='distance')\n",
    "train, test = train_test_split(newsales_city, test_size = 0.2, random_state=10)\n",
    "X_train = train.iloc[:,0:12]\n",
    "y_train = train.iloc[:,12:16]\n",
    "X_train = skfda.FDataGrid(\n",
    "    data_matrix=X_train,\n",
    "    grid_points=grid_points[0:12],\n",
    ")\n",
    "y_train = skfda.FDataGrid(\n",
    "    data_matrix=y_train,\n",
    "    grid_points=grid_points[12:16],\n",
    ")\n",
    "bspline_basis = skfda.representation.basis.VectorValued([\n",
    "    skfda.representation.basis.BSpline(  # BSpline\n",
    "        n_basis=350,\n",
    "        domain_range=fd_x.domain_range,\n",
    "    ),\n",
    "])\n",
    "X_train_bspline = X_train.to_basis(bspline_basis)\n",
    "X_train_grid = X_train_bspline.to_grid(grid_points = grid_points[0:12])\n",
    "knn.fit(X_train_grid, y_train)\n",
    "X_test = test.iloc[:,0:12]\n",
    "X_test = skfda.FDataGrid(\n",
    "    data_matrix=X_test,\n",
    "    grid_points=grid_points[0:12],\n",
    ")\n",
    "X_test_bspline = X_test.to_basis(bspline_basis)\n",
    "X_test_grid = X_test_bspline.to_grid(grid_points = grid_points[0:12])\n",
    "y_pred = knn.predict(X_test_grid)\n",
    "pred = y_pred.to_grid(grid_points = grid_points[12:16])\n",
    "pred = pd.DataFrame(pred.data_matrix.reshape((test.shape[0],4)))\n",
    "y_test = test.iloc[:,12:16]\n",
    "y_test = y_test.reset_index(drop = True)\n",
    "mae = 0\n",
    "rmse = 0\n",
    "smape = 0\n",
    "for i in y_test.index:\n",
    "    mae = mae + mean_absolute_error(y_test.loc[i], pred.loc[i])\n",
    "    smape = smape + Smape(y_test.loc[i], pred.loc[i])\n",
    "    rmse = rmse + sqrt(mean_squared_error(y_test.loc[i], pred.loc[i]))\n",
    "print(\"mae:\", round(mae/len(y_test),2))\n",
    "print(\"smape:\", round(smape/len(y_test),2))\n",
    "print(\"rmse:\", round(rmse/len(y_test),2))"
   ]
  },
  {
   "cell_type": "code",
   "execution_count": 39,
   "id": "074271a1",
   "metadata": {},
   "outputs": [],
   "source": [
    "#FDA city hierarchy"
   ]
  },
  {
   "cell_type": "code",
   "execution_count": 40,
   "id": "697750ee",
   "metadata": {},
   "outputs": [
    {
     "name": "stdout",
     "output_type": "stream",
     "text": [
      "mae: 180.15\n",
      "smape: 0.28\n",
      "rmse: 202.54\n"
     ]
    }
   ],
   "source": [
    "data_matrix_citylevel = pd.read_csv('data_matrix_citylevel.csv')\n",
    "del data_matrix_citylevel['Unnamed: 0']\n",
    "grid_points = []\n",
    "for x in range(1,41):\n",
    "    grid_points.append(x)\n",
    "fd = skfda.FDataGrid(\n",
    "    data_matrix=data_matrix_citylevel,\n",
    "    grid_points=grid_points,\n",
    ")\n",
    "q = 2\n",
    "fpca_clean = FPCA(n_components=q)\n",
    "fpca_clean.fit(fd)\n",
    "fd_hat = fpca_clean.inverse_transform(\n",
    "    fpca_clean.transform(fd)\n",
    ")\n",
    "err_fd = l2_distance(\n",
    "    fd,\n",
    "    fd_hat\n",
    ") / l2_norm(fd)\n",
    "x_density = np.linspace(0., 1.6, num=997)\n",
    "density_err_fd = gaussian_kde(err_fd)\n",
    "err_thresh = np.quantile(err_fd, 0.95)\n",
    "newcitylevel = data_matrix_citylevel[err_fd < err_thresh]\n",
    "newcitylevel.columns = range(1,41)\n",
    "def Smape(y_true,y_pred):\n",
    "    a1 = 2.0 * np.abs(y_true[37]-y_pred[0])/ (np.abs(y_true[37])+np.abs(y_pred[0]))\n",
    "    a2 = 2.0 * np.abs(y_true[38]-y_pred[1])/ (np.abs(y_true[38])+np.abs(y_pred[1]))\n",
    "    a3 = 2.0 * np.abs(y_true[39]-y_pred[2])/ (np.abs(y_true[39])+np.abs(y_pred[2]))\n",
    "    a4 = 2.0 * np.abs(y_true[40]-y_pred[3])/ (np.abs(y_true[40])+np.abs(y_pred[3]))\n",
    "    return (a1+a2+a3+a4)/4\n",
    "knn = KNeighborsRegressor(n_neighbors=5, weights='distance')\n",
    "train, test = train_test_split(newcitylevel, test_size = 0.2, random_state=10)\n",
    "X_train = train.iloc[:,0:36]\n",
    "y_train = train.iloc[:,36:40]\n",
    "X_train = skfda.FDataGrid(\n",
    "    data_matrix=X_train,\n",
    "    grid_points=grid_points[0:36],\n",
    ")\n",
    "y_train = skfda.FDataGrid(\n",
    "    data_matrix=y_train,\n",
    "    grid_points=grid_points[36:40],\n",
    ")\n",
    "fourier_basis = skfda.representation.basis.VectorValued([\n",
    "    skfda.representation.basis.Fourier(  # Fourier\n",
    "        n_basis=475,\n",
    "        domain_range=X_train.domain_range,\n",
    "    ),\n",
    "])\n",
    "X_train_fourier = X_train.to_basis(fourier_basis)\n",
    "X_train_grid = X_train_fourier.to_grid(grid_points = grid_points[0:36])\n",
    "knn.fit(X_train_grid, y_train)\n",
    "X_test = test.iloc[:,0:36]\n",
    "X_test = skfda.FDataGrid(\n",
    "    data_matrix=X_test,\n",
    "    grid_points=grid_points[0:36],\n",
    ")\n",
    "X_test_fourier = X_test.to_basis(fourier_basis)\n",
    "X_test_grid = X_test_fourier.to_grid(grid_points = grid_points[0:36])\n",
    "y_pred = knn.predict(X_test_grid)\n",
    "pred = y_pred.to_grid(grid_points = grid_points[36:40])\n",
    "pred = pd.DataFrame(pred.data_matrix.reshape((test.shape[0],4)))\n",
    "y_test = test.iloc[:,36:40]\n",
    "y_test = y_test.reset_index(drop = True)\n",
    "mae = 0\n",
    "rmse = 0\n",
    "smape = 0\n",
    "for i in y_test.index:\n",
    "    mae = mae + mean_absolute_error(y_test.loc[i], pred.loc[i])\n",
    "    smape = smape + Smape(y_test.loc[i], pred.loc[i])\n",
    "    rmse = rmse + sqrt(mean_squared_error(y_test.loc[i], pred.loc[i]))\n",
    "print(\"mae:\", round(mae/len(y_test),2))\n",
    "print(\"smape:\", round(smape/len(y_test),2))\n",
    "print(\"rmse:\", round(rmse/len(y_test),2))"
   ]
  },
  {
   "cell_type": "code",
   "execution_count": 41,
   "id": "fb6ec113",
   "metadata": {},
   "outputs": [],
   "source": [
    "#FDA type submarket"
   ]
  },
  {
   "cell_type": "code",
   "execution_count": 42,
   "id": "d77b85cf",
   "metadata": {},
   "outputs": [
    {
     "name": "stdout",
     "output_type": "stream",
     "text": [
      "mae: 736.8\n",
      "smape: 0.27\n",
      "rmse: 882.24\n"
     ]
    }
   ],
   "source": [
    "data_matrix_submarket = pd.read_csv('data_matrix_submarket.csv')\n",
    "del data_matrix_submarket['Unnamed: 0']\n",
    "data_matrix_submarket.columns = range(1,41)\n",
    "fd = skfda.FDataGrid(\n",
    "    data_matrix=data_matrix_submarket,\n",
    "    grid_points=grid_points,\n",
    ")\n",
    "q = 1\n",
    "fpca_clean = FPCA(n_components=q)\n",
    "fpca_clean.fit(fd)\n",
    "fd_hat = fpca_clean.inverse_transform(\n",
    "    fpca_clean.transform(fd)\n",
    ")\n",
    "err_fd = l2_distance(\n",
    "    fd,\n",
    "    fd_hat\n",
    ") / l2_norm(fd)\n",
    "x_density = np.linspace(0., 1.6, num=257)\n",
    "density_err_fd = gaussian_kde(err_fd)\n",
    "err_thresh = np.quantile(err_fd, 0.99)\n",
    "newsubmarket = data_matrix_submarket[err_fd < err_thresh]\n",
    "def Smape(y_true,y_pred):\n",
    "    a1 = 2.0 * np.abs(y_true[37]-y_pred[0])/ (np.abs(y_true[37])+np.abs(y_pred[0]))\n",
    "    a2 = 2.0 * np.abs(y_true[38]-y_pred[1])/ (np.abs(y_true[38])+np.abs(y_pred[1]))\n",
    "    a3 = 2.0 * np.abs(y_true[39]-y_pred[2])/ (np.abs(y_true[39])+np.abs(y_pred[2]))\n",
    "    a4 = 2.0 * np.abs(y_true[40]-y_pred[3])/ (np.abs(y_true[40])+np.abs(y_pred[3]))\n",
    "    return (a1+a2+a3+a4)/4\n",
    "knn = KNeighborsRegressor(n_neighbors=3, weights='distance')\n",
    "train, test = train_test_split(newsubmarket, test_size = 0.2, random_state=10)\n",
    "X_train = train.iloc[:,23:36]\n",
    "y_train = train.iloc[:,36:40]\n",
    "X_train = skfda.FDataGrid(\n",
    "    data_matrix=X_train,\n",
    "    grid_points=grid_points[23:36],\n",
    ")\n",
    "y_train = skfda.FDataGrid(\n",
    "    data_matrix=y_train,\n",
    "    grid_points=grid_points[36:40],\n",
    ")\n",
    "bspline_basis = skfda.representation.basis.VectorValued([\n",
    "    skfda.representation.basis.BSpline(  # BSpline\n",
    "        n_basis=350,\n",
    "        domain_range=X_train.domain_range,\n",
    "    ),\n",
    "])\n",
    "X_train_bspline = X_train.to_basis(bspline_basis)\n",
    "X_train_grid = X_train_bspline.to_grid(grid_points = grid_points[23:36])\n",
    "knn.fit(X_train_grid, y_train)\n",
    "X_test = test.iloc[:,23:36]\n",
    "X_test = skfda.FDataGrid(\n",
    "    data_matrix=X_test,\n",
    "    grid_points=grid_points[23:36],\n",
    ")\n",
    "X_test_bspline = X_test.to_basis(bspline_basis)\n",
    "X_test_grid = X_test_bspline.to_grid(grid_points = grid_points[23:36])\n",
    "y_pred = knn.predict(X_test_grid)\n",
    "pred = y_pred.to_grid(grid_points = grid_points[36:40])\n",
    "pred = pd.DataFrame(pred.data_matrix.reshape((test.shape[0],4)))\n",
    "y_test = test.iloc[:,36:40]\n",
    "y_test = y_test.reset_index(drop = True)\n",
    "mae = 0\n",
    "rmse = 0\n",
    "smape = 0\n",
    "for i in y_test.index:\n",
    "    mae = mae + mean_absolute_error(y_test.loc[i], pred.loc[i])\n",
    "    smape = smape + Smape(y_test.loc[i], pred.loc[i])\n",
    "    rmse = rmse + sqrt(mean_squared_error(y_test.loc[i], pred.loc[i]))\n",
    "print(\"mae:\", round(mae/len(y_test),2))\n",
    "print(\"smape:\", round(smape/len(y_test),2))\n",
    "print(\"rmse:\", round(rmse/len(y_test),2))"
   ]
  },
  {
   "cell_type": "code",
   "execution_count": null,
   "id": "952885e0",
   "metadata": {},
   "outputs": [],
   "source": []
  }
 ],
 "metadata": {
  "kernelspec": {
   "display_name": "Python 3",
   "language": "python",
   "name": "python3"
  },
  "language_info": {
   "codemirror_mode": {
    "name": "ipython",
    "version": 3
   },
   "file_extension": ".py",
   "mimetype": "text/x-python",
   "name": "python",
   "nbconvert_exporter": "python",
   "pygments_lexer": "ipython3",
   "version": "3.8.8"
  }
 },
 "nbformat": 4,
 "nbformat_minor": 5
}
