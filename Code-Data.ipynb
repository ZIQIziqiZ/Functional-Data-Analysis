{
 "cells": [
  {
   "cell_type": "markdown",
   "id": "0dfadd71",
   "metadata": {},
   "source": [
    "Automobile Sales Forecasting Using Functional Data Analysis"
   ]
  },
  {
   "cell_type": "code",
   "execution_count": null,
   "id": "de29680e",
   "metadata": {},
   "outputs": [],
   "source": [
    "#合并后的完整数据集FullData.csv"
   ]
  },
  {
   "cell_type": "code",
   "execution_count": 4,
   "id": "598c9313",
   "metadata": {},
   "outputs": [
    {
     "data": {
      "text/plain": [
       "Index(['TYPE', '厂商', '品牌', '国别', '城市', '城市级别', '子车型ID', '子车型', '子车型英文名', '年',\n",
       "       '月', '燃料类型', '省份', '车身形式', '销量', '集团', '是否新能源', '细分市场', '生厂商品牌属性',\n",
       "       'MSRP', 'TP', '车身类型', '级别', '厂商子品牌', '厂商子品牌E', '品牌挂标', '跨国公司', '变速箱形式',\n",
       "       '行李厢容积(L)', '进气形式', '燃油标号', '供油方式', '环保标准', '挡位个数', '驱动方式', '助力类型',\n",
       "       '电机类型', '驱动电机数', '电机布局', '电池类型', '电池组质保', '最大功率(kW)', '最大扭矩(N?m)',\n",
       "       '最高车速(km/h)', '长度(mm)', '宽度(mm)', '高度(mm)', '轴距(mm)', '车门数(个)',\n",
       "       '座位数(个)', '整备质量(kg)', '排量(L)', '气缸数(个)', '每缸气门数(个)', '最大马力(Ps)',\n",
       "       '最大功率转速(rpm)', '电动机总功率', '电动机总扭矩', '工信部纯电续航里程', '电池容量', '快充时间', '慢充时间'],\n",
       "      dtype='object')"
      ]
     },
     "execution_count": 4,
     "metadata": {},
     "output_type": "execute_result"
    }
   ],
   "source": [
    "import pandas as pd\n",
    "FullData = pd.read_csv('FullData.csv')\n",
    "del FullData['Unnamed: 0']\n",
    "FullData.columns"
   ]
  },
  {
   "cell_type": "code",
   "execution_count": 5,
   "id": "57a620ed",
   "metadata": {},
   "outputs": [
    {
     "name": "stderr",
     "output_type": "stream",
     "text": [
      "<ipython-input-5-039c338d2c59>:2: SettingWithCopyWarning: \n",
      "A value is trying to be set on a copy of a slice from a DataFrame.\n",
      "Try using .loc[row_indexer,col_indexer] = value instead\n",
      "\n",
      "See the caveats in the documentation: https://pandas.pydata.org/pandas-docs/stable/user_guide/indexing.html#returning-a-view-versus-a-copy\n",
      "  FDAData['MonthNum'] = (FDAData['年']-2018)*12 + FDAData['月']\n"
     ]
    },
    {
     "data": {
      "text/html": [
       "<div>\n",
       "<style scoped>\n",
       "    .dataframe tbody tr th:only-of-type {\n",
       "        vertical-align: middle;\n",
       "    }\n",
       "\n",
       "    .dataframe tbody tr th {\n",
       "        vertical-align: top;\n",
       "    }\n",
       "\n",
       "    .dataframe thead th {\n",
       "        text-align: right;\n",
       "    }\n",
       "</style>\n",
       "<table border=\"1\" class=\"dataframe\">\n",
       "  <thead>\n",
       "    <tr style=\"text-align: right;\">\n",
       "      <th></th>\n",
       "      <th>子车型ID</th>\n",
       "      <th>年</th>\n",
       "      <th>月</th>\n",
       "      <th>燃料类型</th>\n",
       "      <th>省份</th>\n",
       "      <th>销量</th>\n",
       "      <th>MSRP</th>\n",
       "      <th>TP</th>\n",
       "      <th>MonthNum</th>\n",
       "    </tr>\n",
       "  </thead>\n",
       "  <tbody>\n",
       "    <tr>\n",
       "      <th>0</th>\n",
       "      <td>54</td>\n",
       "      <td>2018</td>\n",
       "      <td>1</td>\n",
       "      <td>汽油</td>\n",
       "      <td>广西</td>\n",
       "      <td>11.0</td>\n",
       "      <td>259500.0</td>\n",
       "      <td>251000.0</td>\n",
       "      <td>1</td>\n",
       "    </tr>\n",
       "    <tr>\n",
       "      <th>1</th>\n",
       "      <td>295</td>\n",
       "      <td>2018</td>\n",
       "      <td>1</td>\n",
       "      <td>汽油</td>\n",
       "      <td>山东</td>\n",
       "      <td>1.0</td>\n",
       "      <td>266200.0</td>\n",
       "      <td>250100.0</td>\n",
       "      <td>1</td>\n",
       "    </tr>\n",
       "    <tr>\n",
       "      <th>2</th>\n",
       "      <td>517</td>\n",
       "      <td>2018</td>\n",
       "      <td>1</td>\n",
       "      <td>汽油</td>\n",
       "      <td>安徽</td>\n",
       "      <td>55.0</td>\n",
       "      <td>1275600.0</td>\n",
       "      <td>1128400.0</td>\n",
       "      <td>1</td>\n",
       "    </tr>\n",
       "    <tr>\n",
       "      <th>3</th>\n",
       "      <td>322</td>\n",
       "      <td>2018</td>\n",
       "      <td>1</td>\n",
       "      <td>非插电式混合动力</td>\n",
       "      <td>贵州</td>\n",
       "      <td>9.0</td>\n",
       "      <td>268100.0</td>\n",
       "      <td>237300.0</td>\n",
       "      <td>1</td>\n",
       "    </tr>\n",
       "    <tr>\n",
       "      <th>4</th>\n",
       "      <td>329</td>\n",
       "      <td>2018</td>\n",
       "      <td>1</td>\n",
       "      <td>汽油</td>\n",
       "      <td>湖南</td>\n",
       "      <td>2.0</td>\n",
       "      <td>80300.0</td>\n",
       "      <td>59300.0</td>\n",
       "      <td>1</td>\n",
       "    </tr>\n",
       "  </tbody>\n",
       "</table>\n",
       "</div>"
      ],
      "text/plain": [
       "   子车型ID     年  月      燃料类型  省份    销量       MSRP         TP  MonthNum\n",
       "0     54  2018  1        汽油  广西  11.0   259500.0   251000.0         1\n",
       "1    295  2018  1        汽油  山东   1.0   266200.0   250100.0         1\n",
       "2    517  2018  1        汽油  安徽  55.0  1275600.0  1128400.0         1\n",
       "3    322  2018  1  非插电式混合动力  贵州   9.0   268100.0   237300.0         1\n",
       "4    329  2018  1        汽油  湖南   2.0    80300.0    59300.0         1"
      ]
     },
     "execution_count": 5,
     "metadata": {},
     "output_type": "execute_result"
    }
   ],
   "source": [
    "FDAData = FullData.iloc[:,[6,9,10,11,12,14,19,20]]\n",
    "FDAData['MonthNum'] = (FDAData['年']-2018)*12 + FDAData['月']\n",
    "FDAData.head()"
   ]
  },
  {
   "cell_type": "code",
   "execution_count": null,
   "id": "35c8f1a1",
   "metadata": {},
   "outputs": [],
   "source": [
    "FDAData = FDAData.dropna(axis=0,how='any',subset=['MSRP'])\n",
    "FDAData.iloc[:,[0,3,4,5,8]].groupby(by=['子车型ID','燃料类型','省份','MonthNum']).sum()\n",
    "Sales = pd.DataFrame(FDAData.iloc[:,[0,3,4,5,8]].groupby(by=['子车型ID','燃料类型','省份','MonthNum']).sum())\n",
    "Sales.to_csv('Sales.csv',encoding = \"utf_8_sig\")\n",
    "Sales = pd.read_csv('Sales.csv')\n",
    "sum(Sales.iloc[:,[0,1,2]].value_counts()==40) #2276\n",
    "cnt = Sales.iloc[:,[0,1,2]].value_counts()\n",
    "cnt = cnt[0:2276]\n",
    "cnt = pd.DataFrame(cnt)\n",
    "cnt.to_csv('cnt.csv',encoding = \"utf_8_sig\")\n",
    "cnt= pd.read_csv('cnt.csv')"
   ]
  },
  {
   "cell_type": "code",
   "execution_count": null,
   "id": "5e9dd4f9",
   "metadata": {},
   "outputs": [],
   "source": [
    "grid_points_train = []\n",
    "for x in range(1,37):\n",
    "    grid_points_train.append(x)\n",
    "\n",
    "data_matrix_train = []\n",
    "for i in cnt.index:\n",
    "    ID = cnt['子车型ID'][i]\n",
    "    Fuel = cnt['燃料类型'][i]\n",
    "    Prov = cnt['省份'][i]\n",
    "    \n",
    "    ts = []\n",
    "    for j in range(1,37):\n",
    "        s = Sales.loc[Sales['子车型ID'] == ID].loc[Sales['燃料类型'] == Fuel].loc[Sales['省份'] == Prov].loc[Sales['MonthNum'] == j]\n",
    "        ss = s.reset_index(drop=True)\n",
    "        ts.append(ss['销量'][0])\n",
    "        \n",
    "    data_matrix_train.append(ts)\n",
    "\n",
    "data_matrix_train = pd.DataFrame(data_matrix_train)\n",
    "data_matrix_train.to_csv('data_matrix_train.csv',encoding = \"utf_8_sig\")"
   ]
  },
  {
   "cell_type": "code",
   "execution_count": null,
   "id": "d0d1c75d",
   "metadata": {},
   "outputs": [],
   "source": [
    "grid_points_test = []\n",
    "for x in range(37,41):\n",
    "    grid_points_test.append(x)\n",
    "\n",
    "data_matrix_test = []\n",
    "for i in cnt.index:\n",
    "    ID = cnt['子车型ID'][i]\n",
    "    Fuel = cnt['燃料类型'][i]\n",
    "    Prov = cnt['省份'][i]\n",
    "    \n",
    "    ts = []\n",
    "    for j in range(37,41):\n",
    "        s = Sales.loc[Sales['子车型ID'] == ID].loc[Sales['燃料类型'] == Fuel].loc[Sales['省份'] == Prov].loc[Sales['MonthNum'] == j]\n",
    "        ss = s.reset_index(drop=True)\n",
    "        ts.append(ss['销量'][0])\n",
    "        \n",
    "    data_matrix_test.append(ts)\n",
    "    \n",
    "data_matrix_test = pd.DataFrame(data_matrix_test)\n",
    "data_matrix_test.to_csv('data_matrix_test.csv',encoding = \"utf_8_sig\")"
   ]
  },
  {
   "cell_type": "code",
   "execution_count": null,
   "id": "8a2afc7e",
   "metadata": {},
   "outputs": [],
   "source": [
    "FDAData = FullData.dropna(axis=0,how='any',subset=['MSRP'])\n",
    "MSRP = FDAData.iloc[:,[0,3,4,6,8]].groupby(by=['子车型ID','燃料类型','省份','MonthNum']).mean()\n",
    "MSRP.to_csv('MSRP.csv',encoding = \"utf_8_sig\")\n",
    "MSRP = pd.read_csv('MSRP.csv')"
   ]
  },
  {
   "cell_type": "code",
   "execution_count": null,
   "id": "acc37021",
   "metadata": {},
   "outputs": [],
   "source": [
    "data_matrix_train_MSRP = []\n",
    "for i in cnt.index:\n",
    "    ID = cnt['子车型ID'][i]\n",
    "    Fuel = cnt['燃料类型'][i]\n",
    "    Prov = cnt['省份'][i]\n",
    "    \n",
    "    ts = []\n",
    "    for j in range(1,37):\n",
    "        s = MSRP.loc[MSRP['子车型ID'] == ID].loc[MSRP['燃料类型'] == Fuel].loc[MSRP['省份'] == Prov].loc[MSRP['MonthNum'] == j]\n",
    "        ss = s.reset_index(drop=True)\n",
    "        ts.append(ss['MSRP'][0])\n",
    "        \n",
    "    data_matrix_train_MSRP.append(ts)\n",
    "    \n",
    "data_matrix_train_MSRP = pd.DataFrame(data_matrix_train_MSRP)\n",
    "data_matrix_train_MSRP.to_csv('data_matrix_train_MSRP.csv',encoding = \"utf_8_sig\")"
   ]
  },
  {
   "cell_type": "code",
   "execution_count": null,
   "id": "b5b99dda",
   "metadata": {},
   "outputs": [],
   "source": [
    "data_matrix_test_MSRP = []\n",
    "for i in cnt.index:\n",
    "    ID = cnt['子车型ID'][i]\n",
    "    Fuel = cnt['燃料类型'][i]\n",
    "    Prov = cnt['省份'][i]\n",
    "    \n",
    "    ts = []\n",
    "    for j in range(37,41):\n",
    "        s = MSRP.loc[MSRP['子车型ID'] == ID].loc[MSRP['燃料类型'] == Fuel].loc[MSRP['省份'] == Prov].loc[MSRP['MonthNum'] == j]\n",
    "        ss = s.reset_index(drop=True)\n",
    "        ts.append(ss['MSRP'][0])\n",
    "        \n",
    "    data_matrix_test_MSRP.append(ts)\n",
    "\n",
    "data_matrix_test_MSRP = pd.DataFrame(data_matrix_test_MSRP)\n",
    "data_matrix_test_MSRP.to_csv('data_matrix_test_MSRP.csv',encoding = \"utf_8_sig\")"
   ]
  },
  {
   "cell_type": "code",
   "execution_count": 6,
   "id": "9662e52b",
   "metadata": {},
   "outputs": [],
   "source": [
    "#city"
   ]
  },
  {
   "cell_type": "code",
   "execution_count": null,
   "id": "2c48df79",
   "metadata": {},
   "outputs": [],
   "source": [
    "FDAData = FullData.iloc[:,[6,9,10,11,4,14,19,20]]\n",
    "FDAData['MonthNum'] = (FDAData['年']-2018)*12 + FDAData['月']\n",
    "Sales_city = pd.DataFrame(FDAData.iloc[:,[0,3,4,5,8]].groupby(by=['子车型ID','燃料类型','城市','MonthNum']).sum())\n",
    "Sales_city.to_csv('Sales_city.csv',encoding = \"utf_8_sig\")\n",
    "Sales_city = pd.read_csv('Sales_city.csv')\n",
    "sum(Sales_city.iloc[:,[0,1,2]].value_counts()>=28) #5716\n",
    "cnt_city = Sales_city.iloc[:,[0,1,2]].value_counts()\n",
    "cnt_city = cnt_city[0:5716]\n",
    "cnt_city = pd.DataFrame(cnt_city)\n",
    "cnt_city.to_csv('cnt_city.csv',encoding = \"utf_8_sig\")\n",
    "cnt_city = pd.read_csv('cnt_city.csv')\n",
    "\n",
    "grid_points = []\n",
    "for x in range(25,41):\n",
    "    grid_points.append(x)\n",
    "    \n",
    "data_matrix_city = []\n",
    "for i in cnt_city.index:\n",
    "    ID = cnt_city['子车型ID'][i]\n",
    "    Fuel = cnt_city['燃料类型'][i]\n",
    "    City = cnt_city['城市'][i]\n",
    "    \n",
    "    ts = []\n",
    "    for j in range(25,41):\n",
    "        s = Sales_city.loc[Sales_city['子车型ID'] == ID].loc[Sales_city['燃料类型'] == Fuel].loc[Sales_city['城市'] == City].loc[Sales_city['MonthNum'] == j]\n",
    "        ss = s.reset_index(drop=True)\n",
    "        if 0 in ss.index:\n",
    "            ts.append(ss['销量'][0])\n",
    "        else:\n",
    "            ts.append(-1)\n",
    "            break\n",
    "    if -1 not in ts:\n",
    "        data_matrix_city.append(ts)\n",
    "        \n",
    "data_matrix_city = pd.DataFrame(data_matrix_city)\n",
    "data_matrix_city.to_csv('data_matrix_city.csv',encoding = \"utf_8_sig\")"
   ]
  },
  {
   "cell_type": "code",
   "execution_count": 7,
   "id": "3ba0afef",
   "metadata": {},
   "outputs": [],
   "source": [
    "#citylevel"
   ]
  },
  {
   "cell_type": "code",
   "execution_count": null,
   "id": "bed15b3a",
   "metadata": {},
   "outputs": [],
   "source": [
    "FDAData = FullData.iloc[:,[6,9,10,11,5,14,19,20]]\n",
    "FDAData['MonthNum'] = (FDAData['年']-2018)*12 + FDAData['月']\n",
    "citylevel = pd.DataFrame(FDAData.iloc[:,[0,3,4,5,8]].groupby(by=['子车型ID','燃料类型','城市级别','MonthNum']).sum())\n",
    "citylevel.to_csv('citylevel.csv',encoding = \"utf_8_sig\")\n",
    "citylevel = pd.read_csv('citylevel.csv')\n",
    "sum(citylevel.iloc[:,[0,1,2]].value_counts() == 40) #997\n",
    "cnt_citylevel = citylevel.iloc[:,[0,1,2]].value_counts()\n",
    "cnt_citylevel = cnt_citylevel[0:997]\n",
    "cnt_citylevel.to_csv('cnt_citylevel.csv',encoding = \"utf_8_sig\")\n",
    "cnt_citylevel = pd.read_csv('cnt_citylevel.csv')\n",
    "\n",
    "grid_points = []\n",
    "for x in range(1,41):\n",
    "    grid_points.append(x)\n",
    "\n",
    "data_matrix_citylevel = []\n",
    "for i in cnt_citylevel.index:\n",
    "    ID = cnt_citylevel['子车型ID'][i]\n",
    "    Fuel = cnt_citylevel['燃料类型'][i]\n",
    "    Citylevel = cnt_citylevel['城市级别'][i]\n",
    "    \n",
    "    ts = []\n",
    "    for j in range(1,41):\n",
    "        s = citylevel.loc[citylevel['子车型ID'] == ID].loc[citylevel['燃料类型'] == Fuel].loc[citylevel['城市级别'] == Citylevel].loc[citylevel['MonthNum'] == j]\n",
    "        ss = s.reset_index(drop=True)\n",
    "        if 0 in ss.index:\n",
    "            ts.append(ss['销量'][0])\n",
    "        else:\n",
    "            ts.append(-1)\n",
    "            break\n",
    "    if -1 not in ts:\n",
    "        data_matrix_citylevel.append(ts)\n",
    "        \n",
    "data_matrix_citylevel = pd.DataFrame(data_matrix_citylevel)\n",
    "data_matrix_citylevel.to_csv('data_matrix_citylevel.csv',encoding = \"utf_8_sig\")"
   ]
  },
  {
   "cell_type": "code",
   "execution_count": 8,
   "id": "0f35207d",
   "metadata": {},
   "outputs": [],
   "source": [
    "#submarket"
   ]
  },
  {
   "cell_type": "code",
   "execution_count": null,
   "id": "d3ddaaba",
   "metadata": {},
   "outputs": [],
   "source": [
    "FDAData = FullData.iloc[:,[6,9,10,11,17,14,19,20]]\n",
    "FDAData['MonthNum'] = (FDAData['年']-2018)*12 + FDAData['月']\n",
    "submarket = pd.DataFrame(FDAData.iloc[:,[0,3,4,5,8]].groupby(by=['子车型ID','燃料类型','细分市场','MonthNum']).sum())\n",
    "submarket.to_csv('submarket.csv',encoding = \"utf_8_sig\")\n",
    "submarket = pd.read_csv('submarket.csv')\n",
    "sum(submarket.iloc[:,[0,1,2]].value_counts() == 40) #257\n",
    "cnt_submarket.to_csv('cnt_submarket.csv',encoding = \"utf_8_sig\")\n",
    "cnt_submarket = pd.read_csv('cnt_submarket.csv')\n",
    "\n",
    "grid_points = []\n",
    "for x in range(1,41):\n",
    "    grid_points.append(x)\n",
    "    \n",
    "data_matrix_submarket = []\n",
    "for i in cnt_submarket.index:\n",
    "    ID = cnt_submarket['子车型ID'][i]\n",
    "    Fuel = cnt_submarket['燃料类型'][i]\n",
    "    Submarket = cnt_submarket['细分市场'][i]\n",
    "    \n",
    "    ts = []\n",
    "    for j in range(1,41):\n",
    "        s = submarket.loc[submarket['子车型ID'] == ID].loc[submarket['燃料类型'] == Fuel].loc[submarket['细分市场'] == Submarket].loc[submarket['MonthNum'] == j]\n",
    "        ss = s.reset_index(drop=True)\n",
    "        if 0 in ss.index:\n",
    "            ts.append(ss['销量'][0])\n",
    "        else:\n",
    "            ts.append(-1)\n",
    "            break\n",
    "    if -1 not in ts:\n",
    "        data_matrix_submarket.append(ts)\n",
    "        \n",
    "data_matrix_submarket = pd.DataFrame(data_matrix_submarket)\n",
    "data_matrix_submarket.to_csv('data_matrix_submarket.csv',encoding = \"utf_8_sig\")"
   ]
  },
  {
   "cell_type": "code",
   "execution_count": 9,
   "id": "c0d35f94",
   "metadata": {},
   "outputs": [],
   "source": [
    "#new"
   ]
  },
  {
   "cell_type": "code",
   "execution_count": null,
   "id": "328be62d",
   "metadata": {},
   "outputs": [],
   "source": [
    "len(FullData) #2621796\n",
    "FullData = FullData.dropna(axis=0,how='any',subset=['MSRP']) #2042941\n",
    "new = FullData[FullData['是否新能源']=='是'] #67444\n",
    "new.to_csv('new.csv',encoding = \"utf_8_sig\")"
   ]
  },
  {
   "cell_type": "code",
   "execution_count": 10,
   "id": "ccbc4990",
   "metadata": {},
   "outputs": [],
   "source": [
    "#traditional"
   ]
  },
  {
   "cell_type": "code",
   "execution_count": null,
   "id": "690ad38f",
   "metadata": {},
   "outputs": [],
   "source": [
    "traditional = FullData[FullData['是否新能源']=='否'] #1975497\n",
    "del traditional['电机类型']\n",
    "del traditional['驱动电机数']\n",
    "del traditional['电机布局']\n",
    "del traditional['电池类型']\n",
    "del traditional['电池组质保']\n",
    "del traditional['电动机总功率']\n",
    "del traditional['电动机总扭矩']\n",
    "del traditional['工信部纯电续航里程']\n",
    "del traditional['电池容量']\n",
    "del traditional['快充时间']\n",
    "del traditional['慢充时间']\n",
    "traditional.to_csv('traditional.csv',encoding = \"utf_8_sig\")"
   ]
  }
 ],
 "metadata": {
  "kernelspec": {
   "display_name": "Python 3",
   "language": "python",
   "name": "python3"
  },
  "language_info": {
   "codemirror_mode": {
    "name": "ipython",
    "version": 3
   },
   "file_extension": ".py",
   "mimetype": "text/x-python",
   "name": "python",
   "nbconvert_exporter": "python",
   "pygments_lexer": "ipython3",
   "version": "3.8.8"
  }
 },
 "nbformat": 4,
 "nbformat_minor": 5
}
